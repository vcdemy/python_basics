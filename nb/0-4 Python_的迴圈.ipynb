{
 "cells": [
  {
   "cell_type": "markdown",
   "metadata": {},
   "source": [
    "<a href=\"https://colab.research.google.com/github/victorgau/python_crawler/blob/master/0-4%20Python_%E7%9A%84%E8%BF%B4%E5%9C%88.ipynb\" target=\"_parent\"><img src=\"https://colab.research.google.com/assets/colab-badge.svg\" alt=\"Open In Colab\"/></a>"
   ]
  },
  {
   "cell_type": "markdown",
   "metadata": {
    "colab_type": "text",
    "id": "WekpELZ7MDtc"
   },
   "source": [
    "# Python 迴圈"
   ]
  },
  {
   "cell_type": "markdown",
   "metadata": {
    "colab_type": "text",
    "id": "Hdvxab5SMDte"
   },
   "source": [
    "## 複習重點：\n",
    "\n",
    "* for loop\n",
    "* break 跟 continue\n",
    "* while loop"
   ]
  },
  {
   "cell_type": "markdown",
   "metadata": {
    "colab_type": "text",
    "id": "0vMxBLB8MDtf"
   },
   "source": [
    "---"
   ]
  },
  {
   "cell_type": "markdown",
   "metadata": {
    "colab_type": "text",
    "id": "6Kc-49jzMDtg"
   },
   "source": [
    "## for 迴圈\n",
    "\n",
    "### 語法：\n",
    "\n",
    "```python\n",
    "for 變數 in 資料結構:\n",
    "    欲執行之程式區塊\n",
    "```"
   ]
  },
  {
   "cell_type": "code",
   "execution_count": null,
   "metadata": {
    "colab": {
     "base_uri": "https://localhost:8080/",
     "height": 104
    },
    "colab_type": "code",
    "id": "1l393A97MDth",
    "outputId": "65b2dbe8-5f3c-4bf5-e590-b027e05d246f"
   },
   "outputs": [],
   "source": [
    "# for 迴圈\n",
    "\n",
    "A = range(5)\n",
    "\n",
    "for i in A:\n",
    "    print(i)"
   ]
  },
  {
   "cell_type": "markdown",
   "metadata": {
    "colab_type": "text",
    "id": "u3aTb5AyQcMY"
   },
   "source": [
    "## 關於 range"
   ]
  },
  {
   "cell_type": "code",
   "execution_count": null,
   "metadata": {
    "colab": {
     "base_uri": "https://localhost:8080/",
     "height": 52
    },
    "colab_type": "code",
    "id": "v2eidomHMeLw",
    "outputId": "30f96d90-0ccf-4138-d149-8c6f706fb20d"
   },
   "outputs": [],
   "source": [
    "%%python2\n",
    "\n",
    "a = range(10)\n",
    "print(type(a))\n",
    "print(a)"
   ]
  },
  {
   "cell_type": "code",
   "execution_count": null,
   "metadata": {
    "colab": {
     "base_uri": "https://localhost:8080/",
     "height": 52
    },
    "colab_type": "code",
    "id": "sTKkNlaaMmh6",
    "outputId": "a57f9be0-58e7-448a-c7d9-aa1be803b387"
   },
   "outputs": [],
   "source": [
    "b = range(10)\n",
    "print(type(b))\n",
    "print(b)"
   ]
  },
  {
   "cell_type": "code",
   "execution_count": null,
   "metadata": {
    "colab": {},
    "colab_type": "code",
    "id": "4vX-83KoMi9C"
   },
   "outputs": [],
   "source": [
    "range?"
   ]
  },
  {
   "cell_type": "code",
   "execution_count": null,
   "metadata": {
    "colab": {
     "base_uri": "https://localhost:8080/",
     "height": 104
    },
    "colab_type": "code",
    "id": "XoFI2haSRBPw",
    "outputId": "c34ba5bc-42e7-4362-bc67-f92d108d748c"
   },
   "outputs": [],
   "source": [
    "# for 迴圈\n",
    "A = range(1,10, 2)\n",
    "\n",
    "for i in A:    # enumerate: iterator\n",
    "    print(i)"
   ]
  },
  {
   "cell_type": "code",
   "execution_count": null,
   "metadata": {
    "colab": {
     "base_uri": "https://localhost:8080/",
     "height": 104
    },
    "colab_type": "code",
    "id": "sbvJxf89RMje",
    "outputId": "e55c7881-fdbf-40a9-cd5e-5a560108e400"
   },
   "outputs": [],
   "source": [
    "# for 迴圈\n",
    "A = range(1,10, 2)\n",
    "\n",
    "for i in enumerate(A):    # enumerate: iterator\n",
    "    print(i)"
   ]
  },
  {
   "cell_type": "code",
   "execution_count": null,
   "metadata": {
    "colab": {
     "base_uri": "https://localhost:8080/",
     "height": 104
    },
    "colab_type": "code",
    "id": "aDzI2xE6MDto",
    "outputId": "c66cdc29-3eb6-4c6a-cfc8-f56852ec2552"
   },
   "outputs": [],
   "source": [
    "# for 迴圈\n",
    "A = range(1,10, 2)\n",
    "\n",
    "for i, item in enumerate(A):    # enumerate: iterator\n",
    "    print(i,\"==>\",item)"
   ]
  },
  {
   "cell_type": "markdown",
   "metadata": {
    "colab_type": "text",
    "id": "m03TYXIVMDtq"
   },
   "source": [
    "## 【練習】\n",
    "\n",
    "使用 for 迴圈畫出一個金字塔！\n",
    "\n",
    "        *\n",
    "       ***\n",
    "      *****\n",
    "     *******\n",
    "    *********"
   ]
  },
  {
   "cell_type": "code",
   "execution_count": null,
   "metadata": {
    "colab": {
     "base_uri": "https://localhost:8080/",
     "height": 34
    },
    "colab_type": "code",
    "id": "CARQUx71S9yZ",
    "outputId": "7505191a-dbe8-4cfd-9ded-5ea23bd9c87f"
   },
   "outputs": [],
   "source": [
    "'*' * 10"
   ]
  },
  {
   "cell_type": "code",
   "execution_count": null,
   "metadata": {
    "colab": {
     "base_uri": "https://localhost:8080/",
     "height": 104
    },
    "colab_type": "code",
    "id": "OKUsme4vTDbo",
    "outputId": "697ffebe-6111-4395-ba09-7fe10e6a1e77"
   },
   "outputs": [],
   "source": [
    "for i in range(5):\n",
    "  print(' '*(5-i)+'*'*(2*i+1))"
   ]
  },
  {
   "cell_type": "markdown",
   "metadata": {
    "colab_type": "text",
    "id": "lf-PO6z9MDtr"
   },
   "source": [
    "---"
   ]
  },
  {
   "cell_type": "markdown",
   "metadata": {
    "colab_type": "text",
    "id": "ejynJZ1wMDts"
   },
   "source": [
    "## break 跟 continue\n",
    "\n",
    "* break 用來跳出迴圈\n",
    "* continue 用來繼續執行迴圈的下一輪迴"
   ]
  },
  {
   "cell_type": "code",
   "execution_count": null,
   "metadata": {
    "colab": {
     "base_uri": "https://localhost:8080/",
     "height": 173
    },
    "colab_type": "code",
    "id": "QIqKJ0OiMDtt",
    "outputId": "ee4aefde-2de0-4dcd-d885-caaad9ff0c38"
   },
   "outputs": [],
   "source": [
    "for i in range(1, 10):\n",
    "    print(i)"
   ]
  },
  {
   "cell_type": "code",
   "execution_count": null,
   "metadata": {
    "colab": {
     "base_uri": "https://localhost:8080/",
     "height": 86
    },
    "colab_type": "code",
    "id": "XlB2Il0KMDtv",
    "outputId": "51c09186-18d6-4d38-c4e8-34585823ea59"
   },
   "outputs": [],
   "source": [
    "for i in range(1, 10):\n",
    "    if i % 5 == 0:\n",
    "        break\n",
    "    print(i)"
   ]
  },
  {
   "cell_type": "code",
   "execution_count": null,
   "metadata": {
    "colab": {
     "base_uri": "https://localhost:8080/",
     "height": 155
    },
    "colab_type": "code",
    "id": "UWYY6C-HMDtx",
    "outputId": "73f9bd2d-71ea-4562-fcbc-501d47d67896"
   },
   "outputs": [],
   "source": [
    "for i in range(1, 10):\n",
    "    if i % 5 == 0:\n",
    "        continue\n",
    "    print(i)"
   ]
  },
  {
   "cell_type": "markdown",
   "metadata": {
    "colab_type": "text",
    "id": "1SGnEsKZMDtz"
   },
   "source": [
    "---"
   ]
  },
  {
   "cell_type": "markdown",
   "metadata": {
    "colab_type": "text",
    "id": "UmldxbBDMDt0"
   },
   "source": [
    "## 巢狀迴圈"
   ]
  },
  {
   "cell_type": "code",
   "execution_count": null,
   "metadata": {
    "colab": {
     "base_uri": "https://localhost:8080/",
     "height": 449
    },
    "colab_type": "code",
    "id": "broJ2hfWMDt1",
    "outputId": "afb43e55-e794-43d8-996c-b491dbce17f8"
   },
   "outputs": [],
   "source": [
    "for i in range(5):\n",
    "    for j in range(5):\n",
    "        print(\"i =\", i, \", j =\", j)"
   ]
  },
  {
   "cell_type": "markdown",
   "metadata": {
    "colab_type": "text",
    "id": "d6J5v0w0MDt3"
   },
   "source": [
    "## 【練習】\n",
    "\n",
    "請用巢狀迴圈，列出九九乘法表！"
   ]
  },
  {
   "cell_type": "markdown",
   "metadata": {
    "colab_type": "text",
    "id": "aYy7SOO4MDt4"
   },
   "source": [
    "---"
   ]
  },
  {
   "cell_type": "markdown",
   "metadata": {
    "colab_type": "text",
    "id": "xInUl4rQMDt5"
   },
   "source": [
    "## while 迴圈\n",
    "\n",
    "### 語法：\n",
    "\n",
    "```python\n",
    "while 條件式:\n",
    "    欲執行之程式區塊\n",
    "```"
   ]
  },
  {
   "cell_type": "code",
   "execution_count": null,
   "metadata": {
    "colab": {},
    "colab_type": "code",
    "id": "ptR0pWJKMDt5"
   },
   "outputs": [],
   "source": [
    "# while 迴圈\n",
    "\n",
    "count = 0\n",
    "while (count < 10):\n",
    "    print(count)\n",
    "    count += 1"
   ]
  },
  {
   "cell_type": "code",
   "execution_count": null,
   "metadata": {
    "colab": {},
    "colab_type": "code",
    "id": "77MXJkjiMDt8"
   },
   "outputs": [],
   "source": [
    "# while 迴圈\n",
    "\n",
    "count = 0\n",
    "while (count < 10):\n",
    "    if count % 2 == 0:\n",
    "        count += 1\n",
    "        continue\n",
    "    print(count)\n",
    "    count += 1"
   ]
  },
  {
   "cell_type": "code",
   "execution_count": null,
   "metadata": {
    "colab": {},
    "colab_type": "code",
    "id": "d_lB7J8DPIy3"
   },
   "outputs": [],
   "source": [
    "# while 迴圈\n",
    "\n",
    "count = 0\n",
    "while (count < 10):\n",
    "    if count % 2 != 0:\n",
    "        print(count)\n",
    "    count += 1"
   ]
  },
  {
   "cell_type": "code",
   "execution_count": null,
   "metadata": {
    "colab": {},
    "colab_type": "code",
    "id": "jbLc5rAKMDt-"
   },
   "outputs": [],
   "source": [
    "# while 迴圈\n",
    "\n",
    "count = 0\n",
    "while (count < 10):\n",
    "    count += 1\n",
    "    if count % 2 == 0:\n",
    "        break\n",
    "    print(count)"
   ]
  },
  {
   "cell_type": "code",
   "execution_count": null,
   "metadata": {
    "colab": {},
    "colab_type": "code",
    "id": "vj8W95KUMDuA"
   },
   "outputs": [],
   "source": [
    "# while 迴圈\n",
    "\n",
    "count = 0\n",
    "while (count < 10):\n",
    "    if count % 3 == 0:\n",
    "        print(count)\n",
    "    count += 1"
   ]
  },
  {
   "cell_type": "code",
   "execution_count": null,
   "metadata": {
    "colab": {},
    "colab_type": "code",
    "id": "2yTrZezUMDuC"
   },
   "outputs": [],
   "source": [
    "count = 0\n",
    "while True:\n",
    "    if count > 10:\n",
    "        break\n",
    "    count += 1"
   ]
  }
 ],
 "metadata": {
  "anaconda-cloud": {},
  "celltoolbar": "Raw Cell Format",
  "colab": {
   "collapsed_sections": [],
   "name": "Python 的迴圈.ipynb",
   "provenance": [],
   "toc_visible": true
  },
  "kernelspec": {
   "display_name": "Python 3",
   "language": "python",
   "name": "python3"
  },
  "language_info": {
   "codemirror_mode": {
    "name": "ipython",
    "version": 3
   },
   "file_extension": ".py",
   "mimetype": "text/x-python",
   "name": "python",
   "nbconvert_exporter": "python",
   "pygments_lexer": "ipython3",
   "version": "3.7.1"
  },
  "livereveal": {
   "scroll": true
  },
  "nbpresent": {
   "slides": {},
   "themes": {
    "default": "56b38c57-4ffe-478a-9f92-8ca64a17c67c",
    "theme": {
     "56b38c57-4ffe-478a-9f92-8ca64a17c67c": {
      "id": "56b38c57-4ffe-478a-9f92-8ca64a17c67c",
      "palette": {
       "19cc588f-0593-49c9-9f4b-e4d7cc113b1c": {
        "id": "19cc588f-0593-49c9-9f4b-e4d7cc113b1c",
        "rgb": [
         252,
         252,
         252
        ]
       },
       "31af15d2-7e15-44c5-ab5e-e04b16a89eff": {
        "id": "31af15d2-7e15-44c5-ab5e-e04b16a89eff",
        "rgb": [
         68,
         68,
         68
        ]
       },
       "50f92c45-a630-455b-aec3-788680ec7410": {
        "id": "50f92c45-a630-455b-aec3-788680ec7410",
        "rgb": [
         155,
         177,
         192
        ]
       },
       "c5cc3653-2ee1-402a-aba2-7caae1da4f6c": {
        "id": "c5cc3653-2ee1-402a-aba2-7caae1da4f6c",
        "rgb": [
         43,
         126,
         184
        ]
       },
       "efa7f048-9acb-414c-8b04-a26811511a21": {
        "id": "efa7f048-9acb-414c-8b04-a26811511a21",
        "rgb": [
         25.118061674008803,
         73.60176211453744,
         107.4819383259912
        ]
       }
      },
      "rules": {
       "blockquote": {
        "color": "50f92c45-a630-455b-aec3-788680ec7410"
       },
       "code": {
        "font-family": "Anonymous Pro"
       },
       "h1": {
        "color": "c5cc3653-2ee1-402a-aba2-7caae1da4f6c",
        "font-family": "Lato",
        "font-size": 8
       },
       "h2": {
        "color": "c5cc3653-2ee1-402a-aba2-7caae1da4f6c",
        "font-family": "Lato",
        "font-size": 6
       },
       "h3": {
        "color": "50f92c45-a630-455b-aec3-788680ec7410",
        "font-family": "Lato",
        "font-size": 5.5
       },
       "h4": {
        "color": "c5cc3653-2ee1-402a-aba2-7caae1da4f6c",
        "font-family": "Lato",
        "font-size": 5
       },
       "h5": {
        "font-family": "Lato"
       },
       "h6": {
        "font-family": "Lato"
       },
       "h7": {
        "font-family": "Lato"
       },
       "pre": {
        "font-family": "Anonymous Pro",
        "font-size": 4
       }
      },
      "text-base": {
       "font-family": "Merriweather",
       "font-size": 4
      }
     }
    }
   }
  }
 },
 "nbformat": 4,
 "nbformat_minor": 2
}
