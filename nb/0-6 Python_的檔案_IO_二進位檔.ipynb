{
 "cells": [
  {
   "cell_type": "markdown",
   "metadata": {},
   "source": [
    "<a href=\"https://colab.research.google.com/github/victorgau/python_crawler/blob/master/0-6%20Python_%E7%9A%84%E6%AA%94%E6%A1%88_IO_%E4%BA%8C%E9%80%B2%E4%BD%8D%E6%AA%94.ipynb\" target=\"_parent\"><img src=\"https://colab.research.google.com/assets/colab-badge.svg\" alt=\"Open In Colab\"/></a>"
   ]
  },
  {
   "cell_type": "markdown",
   "metadata": {
    "colab_type": "text",
    "id": "-c1GgL6dltL_"
   },
   "source": [
    "# Python 的檔案 IO - 二進位檔\n",
    "\n",
    "檔案 (Files) 裡面存放的是位元組 (Bytes)。\n",
    "\n",
    "如果檔案內的所有位元組可以對應到任何語系的任何字元，則該檔案可以歸類為文字檔 (Text Files)，如果不行則該檔案是二進位檔 (Binary Files)。\n",
    "\n",
    "檔案的分類：\n",
    "\n",
    "* 文字檔\n",
    "  - 一般文字檔\n",
    "  - .csv (Comma-Separated Values)\n",
    "  - .html (<標籤> </標籤>)\n",
    "* 二進位檔\n",
    "  - 圖片檔\n",
    "  - .xls, .xlsx"
   ]
  },
  {
   "cell_type": "markdown",
   "metadata": {
    "colab_type": "text",
    "id": "GyE5PO_PltMD"
   },
   "source": [
    "---"
   ]
  },
  {
   "cell_type": "markdown",
   "metadata": {
    "colab_type": "text",
    "id": "zAWoR2kcltMF"
   },
   "source": [
    "## 二進位檔的讀寫方式\n",
    "\n",
    "1. 使用 open() 來打開檔案，並選擇操作模式 (mode)，如 'rb'為讀取二進位檔，'wb'為寫入二進位檔。\n",
    "2. 使用 read() 或 write() 等等方法來讀寫檔案。\n",
    "3. 使用 close() 來關閉檔案，將記憶體內的位元組寫入檔案，並釋放資源。"
   ]
  },
  {
   "cell_type": "markdown",
   "metadata": {
    "colab_type": "text",
    "id": "5xyG57SUltMG"
   },
   "source": [
    "---"
   ]
  },
  {
   "cell_type": "markdown",
   "metadata": {
    "colab_type": "text",
    "id": "3pBRaDw-ltMH"
   },
   "source": [
    "### 練習一\n",
    "\n",
    "抓取網路上的圖形，存到自己的硬碟上。\n",
    "\n",
    "例如：下載底下圖片\n",
    "\n",
    "url = \"http://i.epochtimes.com/assets/uploads/2018/08/PO_X95711-600x400.jpg\""
   ]
  },
  {
   "cell_type": "code",
   "execution_count": null,
   "metadata": {
    "colab": {},
    "colab_type": "code",
    "id": "83BqM4hbltMI"
   },
   "outputs": [],
   "source": [
    "import requests"
   ]
  },
  {
   "cell_type": "code",
   "execution_count": null,
   "metadata": {
    "colab": {},
    "colab_type": "code",
    "id": "znnfb57BltMN"
   },
   "outputs": [],
   "source": [
    "url = \"http://i.epochtimes.com/assets/uploads/2018/08/PO_X95711-600x400.jpg\""
   ]
  },
  {
   "cell_type": "code",
   "execution_count": null,
   "metadata": {
    "colab": {},
    "colab_type": "code",
    "id": "X0k1eD1gltMP"
   },
   "outputs": [],
   "source": [
    "# 抓取圖片\n",
    "r = requests.get(url)"
   ]
  },
  {
   "cell_type": "code",
   "execution_count": null,
   "metadata": {
    "colab": {},
    "colab_type": "code",
    "id": "5F9qA4ayltMR"
   },
   "outputs": [],
   "source": [
    "# 存成檔案\n",
    "with open(\"lin.jpg\", \"wb\") as f:\n",
    "    f.write(r.content)"
   ]
  },
  {
   "cell_type": "markdown",
   "metadata": {
    "colab_type": "text",
    "id": "RR307E0cltMT"
   },
   "source": [
    "---"
   ]
  },
  {
   "cell_type": "markdown",
   "metadata": {
    "colab_type": "text",
    "id": "kN0ClYjrltMU"
   },
   "source": [
    "### 練習二\n",
    "\n",
    "將程式中的物件轉存成檔案來保存。\n",
    "\n",
    "讀取台積電 (2330) 股價，存到硬碟上。"
   ]
  },
  {
   "cell_type": "code",
   "execution_count": null,
   "metadata": {
    "colab": {},
    "colab_type": "code",
    "id": "7SNScvpRltMV"
   },
   "outputs": [],
   "source": [
    "import pandas_datareader.data as web\n",
    "from datetime import datetime"
   ]
  },
  {
   "cell_type": "code",
   "execution_count": null,
   "metadata": {
    "colab": {},
    "colab_type": "code",
    "id": "zcilOmUKltMX"
   },
   "outputs": [],
   "source": [
    "# 讀取台積電今年以來的股價\n",
    "df = web.DataReader(\"2330.tw\", 'yahoo', datetime(2019,1,1))"
   ]
  },
  {
   "cell_type": "code",
   "execution_count": null,
   "metadata": {
    "colab": {
     "base_uri": "https://localhost:8080/",
     "height": 225
    },
    "colab_type": "code",
    "id": "4LeGgQzsltMZ",
    "outputId": "d0baa7c5-1b3f-4d8c-903e-1cfcd859adcb"
   },
   "outputs": [
    {
     "data": {
      "text/html": [
       "<div>\n",
       "<style scoped>\n",
       "    .dataframe tbody tr th:only-of-type {\n",
       "        vertical-align: middle;\n",
       "    }\n",
       "\n",
       "    .dataframe tbody tr th {\n",
       "        vertical-align: top;\n",
       "    }\n",
       "\n",
       "    .dataframe thead th {\n",
       "        text-align: right;\n",
       "    }\n",
       "</style>\n",
       "<table border=\"1\" class=\"dataframe\">\n",
       "  <thead>\n",
       "    <tr style=\"text-align: right;\">\n",
       "      <th></th>\n",
       "      <th>High</th>\n",
       "      <th>Low</th>\n",
       "      <th>Open</th>\n",
       "      <th>Close</th>\n",
       "      <th>Volume</th>\n",
       "      <th>Adj Close</th>\n",
       "    </tr>\n",
       "    <tr>\n",
       "      <th>Date</th>\n",
       "      <th></th>\n",
       "      <th></th>\n",
       "      <th></th>\n",
       "      <th></th>\n",
       "      <th></th>\n",
       "      <th></th>\n",
       "    </tr>\n",
       "  </thead>\n",
       "  <tbody>\n",
       "    <tr>\n",
       "      <th>2019-01-02</th>\n",
       "      <td>226.5</td>\n",
       "      <td>219.0</td>\n",
       "      <td>226.5</td>\n",
       "      <td>219.5</td>\n",
       "      <td>32900482.0</td>\n",
       "      <td>210.842331</td>\n",
       "    </tr>\n",
       "    <tr>\n",
       "      <th>2019-01-03</th>\n",
       "      <td>218.0</td>\n",
       "      <td>214.0</td>\n",
       "      <td>214.0</td>\n",
       "      <td>215.5</td>\n",
       "      <td>34087620.0</td>\n",
       "      <td>207.000092</td>\n",
       "    </tr>\n",
       "    <tr>\n",
       "      <th>2019-01-04</th>\n",
       "      <td>211.5</td>\n",
       "      <td>206.5</td>\n",
       "      <td>211.5</td>\n",
       "      <td>208.0</td>\n",
       "      <td>65943521.0</td>\n",
       "      <td>199.795929</td>\n",
       "    </tr>\n",
       "    <tr>\n",
       "      <th>2019-01-07</th>\n",
       "      <td>214.0</td>\n",
       "      <td>211.0</td>\n",
       "      <td>212.0</td>\n",
       "      <td>213.0</td>\n",
       "      <td>35442176.0</td>\n",
       "      <td>204.598709</td>\n",
       "    </tr>\n",
       "    <tr>\n",
       "      <th>2019-01-08</th>\n",
       "      <td>212.5</td>\n",
       "      <td>210.0</td>\n",
       "      <td>212.0</td>\n",
       "      <td>211.0</td>\n",
       "      <td>22694481.0</td>\n",
       "      <td>202.677597</td>\n",
       "    </tr>\n",
       "  </tbody>\n",
       "</table>\n",
       "</div>"
      ],
      "text/plain": [
       "             High    Low   Open  Close      Volume   Adj Close\n",
       "Date                                                          \n",
       "2019-01-02  226.5  219.0  226.5  219.5  32900482.0  210.842331\n",
       "2019-01-03  218.0  214.0  214.0  215.5  34087620.0  207.000092\n",
       "2019-01-04  211.5  206.5  211.5  208.0  65943521.0  199.795929\n",
       "2019-01-07  214.0  211.0  212.0  213.0  35442176.0  204.598709\n",
       "2019-01-08  212.5  210.0  212.0  211.0  22694481.0  202.677597"
      ]
     },
     "execution_count": 5,
     "metadata": {
      "tags": []
     },
     "output_type": "execute_result"
    }
   ],
   "source": [
    "df.head()"
   ]
  },
  {
   "cell_type": "code",
   "execution_count": null,
   "metadata": {
    "colab": {},
    "colab_type": "code",
    "id": "nm-qKEdiltMc"
   },
   "outputs": [],
   "source": [
    "# 存成硬碟上的檔案\n",
    "import pickle"
   ]
  },
  {
   "cell_type": "code",
   "execution_count": null,
   "metadata": {
    "colab": {},
    "colab_type": "code",
    "id": "ybsyQTOaltMf"
   },
   "outputs": [],
   "source": [
    "with open(\"2330.pkl\", \"wb\") as f:\n",
    "    pickle.dump(df, f)"
   ]
  },
  {
   "cell_type": "code",
   "execution_count": null,
   "metadata": {
    "colab": {},
    "colab_type": "code",
    "id": "lBJAy_9vltMh"
   },
   "outputs": [],
   "source": [
    "# 從硬碟上將台積電的股價讀回來\n",
    "with open(\"2330.pkl\", \"rb\") as f:\n",
    "    data = pickle.load(f)"
   ]
  },
  {
   "cell_type": "code",
   "execution_count": null,
   "metadata": {
    "colab": {
     "base_uri": "https://localhost:8080/",
     "height": 225
    },
    "colab_type": "code",
    "id": "janxh1dxltMj",
    "outputId": "7b70c714-d8d2-45eb-d055-ebf7d046a69c"
   },
   "outputs": [
    {
     "data": {
      "text/html": [
       "<div>\n",
       "<style scoped>\n",
       "    .dataframe tbody tr th:only-of-type {\n",
       "        vertical-align: middle;\n",
       "    }\n",
       "\n",
       "    .dataframe tbody tr th {\n",
       "        vertical-align: top;\n",
       "    }\n",
       "\n",
       "    .dataframe thead th {\n",
       "        text-align: right;\n",
       "    }\n",
       "</style>\n",
       "<table border=\"1\" class=\"dataframe\">\n",
       "  <thead>\n",
       "    <tr style=\"text-align: right;\">\n",
       "      <th></th>\n",
       "      <th>High</th>\n",
       "      <th>Low</th>\n",
       "      <th>Open</th>\n",
       "      <th>Close</th>\n",
       "      <th>Volume</th>\n",
       "      <th>Adj Close</th>\n",
       "    </tr>\n",
       "    <tr>\n",
       "      <th>Date</th>\n",
       "      <th></th>\n",
       "      <th></th>\n",
       "      <th></th>\n",
       "      <th></th>\n",
       "      <th></th>\n",
       "      <th></th>\n",
       "    </tr>\n",
       "  </thead>\n",
       "  <tbody>\n",
       "    <tr>\n",
       "      <th>2019-01-02</th>\n",
       "      <td>226.5</td>\n",
       "      <td>219.0</td>\n",
       "      <td>226.5</td>\n",
       "      <td>219.5</td>\n",
       "      <td>32900482.0</td>\n",
       "      <td>210.842331</td>\n",
       "    </tr>\n",
       "    <tr>\n",
       "      <th>2019-01-03</th>\n",
       "      <td>218.0</td>\n",
       "      <td>214.0</td>\n",
       "      <td>214.0</td>\n",
       "      <td>215.5</td>\n",
       "      <td>34087620.0</td>\n",
       "      <td>207.000092</td>\n",
       "    </tr>\n",
       "    <tr>\n",
       "      <th>2019-01-04</th>\n",
       "      <td>211.5</td>\n",
       "      <td>206.5</td>\n",
       "      <td>211.5</td>\n",
       "      <td>208.0</td>\n",
       "      <td>65943521.0</td>\n",
       "      <td>199.795929</td>\n",
       "    </tr>\n",
       "    <tr>\n",
       "      <th>2019-01-07</th>\n",
       "      <td>214.0</td>\n",
       "      <td>211.0</td>\n",
       "      <td>212.0</td>\n",
       "      <td>213.0</td>\n",
       "      <td>35442176.0</td>\n",
       "      <td>204.598709</td>\n",
       "    </tr>\n",
       "    <tr>\n",
       "      <th>2019-01-08</th>\n",
       "      <td>212.5</td>\n",
       "      <td>210.0</td>\n",
       "      <td>212.0</td>\n",
       "      <td>211.0</td>\n",
       "      <td>22694481.0</td>\n",
       "      <td>202.677597</td>\n",
       "    </tr>\n",
       "  </tbody>\n",
       "</table>\n",
       "</div>"
      ],
      "text/plain": [
       "             High    Low   Open  Close      Volume   Adj Close\n",
       "Date                                                          \n",
       "2019-01-02  226.5  219.0  226.5  219.5  32900482.0  210.842331\n",
       "2019-01-03  218.0  214.0  214.0  215.5  34087620.0  207.000092\n",
       "2019-01-04  211.5  206.5  211.5  208.0  65943521.0  199.795929\n",
       "2019-01-07  214.0  211.0  212.0  213.0  35442176.0  204.598709\n",
       "2019-01-08  212.5  210.0  212.0  211.0  22694481.0  202.677597"
      ]
     },
     "execution_count": 9,
     "metadata": {
      "tags": []
     },
     "output_type": "execute_result"
    }
   ],
   "source": [
    "data.head()"
   ]
  },
  {
   "cell_type": "code",
   "execution_count": null,
   "metadata": {
    "colab": {},
    "colab_type": "code",
    "id": "dJVTmqDIltMl",
    "outputId": "efdc017f-a60c-4661-c786-8be5ed3e740f"
   },
   "outputs": [
    {
     "data": {
      "text/plain": [
       "<matplotlib.axes._subplots.AxesSubplot at 0x1d358501fd0>"
      ]
     },
     "execution_count": 13,
     "metadata": {
      "tags": []
     },
     "output_type": "execute_result"
    },
    {
     "data": {
      "image/png": "[encoded data removed]",
      "text/plain": [
       "<Figure size 432x288 with 1 Axes>"
      ]
     },
     "metadata": {
      "needs_background": "light",
      "tags": []
     },
     "output_type": "display_data"
    }
   ],
   "source": [
    "%matplotlib inline\n",
    "data.Close.plot()"
   ]
  }
 ],
 "metadata": {
  "colab": {
   "collapsed_sections": [],
   "name": "Python 的檔案 IO - 二進位檔.ipynb",
   "provenance": []
  },
  "kernelspec": {
   "display_name": "Python 3",
   "language": "python",
   "name": "python3"
  },
  "language_info": {
   "codemirror_mode": {
    "name": "ipython",
    "version": 3
   },
   "file_extension": ".py",
   "mimetype": "text/x-python",
   "name": "python",
   "nbconvert_exporter": "python",
   "pygments_lexer": "ipython3",
   "version": "3.7.1"
  }
 },
 "nbformat": 4,
 "nbformat_minor": 2
}
