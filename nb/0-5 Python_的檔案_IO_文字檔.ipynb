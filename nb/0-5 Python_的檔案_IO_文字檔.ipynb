{
 "cells": [
  {
   "cell_type": "markdown",
   "metadata": {},
   "source": [
    "<a href=\"https://colab.research.google.com/github/victorgau/python_crawler/blob/master/0-5%20Python_%E7%9A%84%E6%AA%94%E6%A1%88_IO_%E6%96%87%E5%AD%97%E6%AA%94.ipynb\" target=\"_parent\"><img src=\"https://colab.research.google.com/assets/colab-badge.svg\" alt=\"Open In Colab\"/></a>"
   ]
  },
  {
   "cell_type": "markdown",
   "metadata": {
    "colab_type": "text",
    "id": "CFv6TYzkVYEq"
   },
   "source": [
    "# Python 的檔案 IO - 文字檔\n",
    "\n",
    "檔案 (Files) 裡面存放的是位元組 (Bytes)。\n",
    "\n",
    "如果檔案內的所有位元組可以對應到任何語系的任何字元，則該檔案可以歸類為文字檔 (Text Files)，如果不行則該檔案是二進位檔 (Binary Files)。\n",
    "\n",
    "檔案的分類：\n",
    "\n",
    "* 文字檔\n",
    "  - 一般文字檔\n",
    "  - .csv (Comma-Separated Values)\n",
    "  - .html (<標籤> </標籤>)\n",
    "* 二進位檔\n",
    "  - 圖片檔\n",
    "  - .xls, .xlsx"
   ]
  },
  {
   "cell_type": "markdown",
   "metadata": {
    "colab_type": "text",
    "id": "cboKC6GlVYEt"
   },
   "source": [
    "---"
   ]
  },
  {
   "cell_type": "markdown",
   "metadata": {
    "colab_type": "text",
    "id": "o9e1NxEnVYEu"
   },
   "source": [
    "## 文字檔的讀寫方式\n",
    "\n",
    "1. 使用 open() 來打開檔案，並選擇操作模式 (mode)，預設的操作模式為 'r'，即讀取模式。\n",
    "2. 使用 read() 或 write() 等等方法來讀寫檔案。\n",
    "3. 使用 close() 來關閉檔案，將記憶體內的位元組寫入檔案，並釋放資源。"
   ]
  },
  {
   "cell_type": "markdown",
   "metadata": {
    "colab_type": "text",
    "id": "PMHhWHslVYEv"
   },
   "source": [
    "## open() 的模式 (mode) 字元：\n",
    "\n",
    "|字元|說明|\n",
    "|:-:|:-|\n",
    "|r|讀取模式|\n",
    "|w|寫入模式|\n",
    "|x|檔案不存在時才寫入|\n",
    "|a|附加模式|\n",
    "|b|二進位模式|\n",
    "|t|文字模式|\n",
    "|+|更新模式|"
   ]
  },
  {
   "cell_type": "markdown",
   "metadata": {
    "colab_type": "text",
    "id": "mlS_3F8UVYEv"
   },
   "source": [
    "---"
   ]
  },
  {
   "cell_type": "markdown",
   "metadata": {
    "colab_type": "text",
    "id": "jqDKrNnDVYEw"
   },
   "source": [
    "## 讀取文字檔"
   ]
  },
  {
   "cell_type": "markdown",
   "metadata": {
    "colab_type": "text",
    "id": "04LWgzIyVYEx"
   },
   "source": [
    "用下面三個函式，讀取文字檔資料：\n",
    "\n",
    "* read()：一次讀完全部內容。\n",
    "* readline()：一次讀一行。\n",
    "* readlines()：一次讀完全部的行數，並放在 list 裡面。"
   ]
  },
  {
   "cell_type": "code",
   "execution_count": null,
   "metadata": {
    "colab": {},
    "colab_type": "code",
    "id": "oM5nf_7zidPZ"
   },
   "outputs": [],
   "source": [
    "!wget -N https://raw.githubusercontent.com/victorgau/python_crawler/master/test01.txt -o /dev/null\n",
    "!wget -N https://raw.githubusercontent.com/victorgau/python_crawler/master/test02.txt -o /dev/null\n",
    "!wget -N https://raw.githubusercontent.com/victorgau/python_crawler/master/test03.txt -o /dev/null"
   ]
  },
  {
   "cell_type": "code",
   "execution_count": null,
   "metadata": {
    "colab": {},
    "colab_type": "code",
    "id": "E1E4dmQ-VYEy"
   },
   "outputs": [],
   "source": [
    "# 方法一\n",
    "f = open('test01.txt')\n",
    "data = f.read()\n",
    "print(data)\n",
    "f.close()"
   ]
  },
  {
   "cell_type": "code",
   "execution_count": null,
   "metadata": {
    "colab": {},
    "colab_type": "code",
    "id": "952ZX9UQVYE1"
   },
   "outputs": [],
   "source": [
    "# 方法二\n",
    "f = open('test01.txt')\n",
    "line = f.readline()\n",
    "while line:\n",
    "    print(line, end=\"\")\n",
    "    line = f.readline()\n",
    "f.close()"
   ]
  },
  {
   "cell_type": "code",
   "execution_count": null,
   "metadata": {
    "colab": {},
    "colab_type": "code",
    "id": "wJvg3qHRVYE4"
   },
   "outputs": [],
   "source": [
    "# 方法三\n",
    "f = open('test01.txt')\n",
    "lines = f.readlines()\n",
    "for line in lines:\n",
    "    print(line, end=\"\")\n",
    "f.close()"
   ]
  },
  {
   "cell_type": "code",
   "execution_count": null,
   "metadata": {
    "colab": {},
    "colab_type": "code",
    "id": "JFAevfs9VYE7"
   },
   "outputs": [],
   "source": [
    "# 方法四\n",
    "f = open('test01.txt')\n",
    "for line in f:\n",
    "    print(line, end=\"\")\n",
    "f.close()"
   ]
  },
  {
   "cell_type": "markdown",
   "metadata": {
    "colab_type": "text",
    "id": "gzn2oe9gVYFA"
   },
   "source": [
    "---"
   ]
  },
  {
   "cell_type": "markdown",
   "metadata": {
    "colab_type": "text",
    "id": "m2fz7KqKVYFC"
   },
   "source": [
    "## 寫入文字檔"
   ]
  },
  {
   "cell_type": "code",
   "execution_count": null,
   "metadata": {
    "colab": {},
    "colab_type": "code",
    "id": "QOCsWWKFVYFD"
   },
   "outputs": [],
   "source": [
    "f = open('test04.txt', 'w')\n",
    "f.write('12345')\n",
    "f.close()"
   ]
  },
  {
   "cell_type": "code",
   "execution_count": null,
   "metadata": {},
   "outputs": [],
   "source": [
    "f = open('test04.txt', 'w')\n",
    "f.write('abcde')\n",
    "f.close()"
   ]
  },
  {
   "cell_type": "code",
   "execution_count": null,
   "metadata": {
    "colab": {},
    "colab_type": "code",
    "id": "_hPskfqgVYFF"
   },
   "outputs": [],
   "source": [
    "f = open('test04.txt', 'a')\n",
    "f.write('fghij\\n')\n",
    "f.write('klmno')\n",
    "f.close()"
   ]
  },
  {
   "cell_type": "markdown",
   "metadata": {},
   "source": [
    "---"
   ]
  },
  {
   "cell_type": "markdown",
   "metadata": {},
   "source": [
    "## 關於 encoding"
   ]
  },
  {
   "cell_type": "code",
   "execution_count": null,
   "metadata": {},
   "outputs": [],
   "source": [
    "f = open('test04.txt', 'w')\n",
    "f.write('中文測試')\n",
    "f.close()"
   ]
  },
  {
   "cell_type": "code",
   "execution_count": null,
   "metadata": {},
   "outputs": [],
   "source": [
    "f = open('test04.txt')\n",
    "print(f.read())\n",
    "f.close()"
   ]
  },
  {
   "cell_type": "code",
   "execution_count": null,
   "metadata": {},
   "outputs": [],
   "source": [
    "f = open('test03.txt')\n",
    "print(f.read())\n",
    "f.close()"
   ]
  },
  {
   "cell_type": "code",
   "execution_count": null,
   "metadata": {},
   "outputs": [],
   "source": [
    "f = open('test03.txt', encoding=\"big5\")\n",
    "print(f.read())\n",
    "f.close()"
   ]
  },
  {
   "cell_type": "code",
   "execution_count": null,
   "metadata": {},
   "outputs": [],
   "source": [
    "f = open('test03.txt', encoding=\"utf8\")\n",
    "print(f.read())\n",
    "f.close()"
   ]
  },
  {
   "cell_type": "code",
   "execution_count": null,
   "metadata": {},
   "outputs": [],
   "source": [
    "import sys\n",
    "sys.getdefaultencoding()"
   ]
  },
  {
   "cell_type": "code",
   "execution_count": null,
   "metadata": {},
   "outputs": [],
   "source": [
    "sys.stdout.encoding"
   ]
  },
  {
   "cell_type": "markdown",
   "metadata": {
    "colab_type": "text",
    "id": "cRs8fWmhVYFI"
   },
   "source": [
    "---"
   ]
  },
  {
   "cell_type": "markdown",
   "metadata": {
    "colab_type": "text",
    "id": "n68yCKDTVYFJ"
   },
   "source": [
    "## 用 with 建立檔案，會自動呼叫 close() \n",
    "\n",
    "語法：\n",
    "\n",
    "```python\n",
    "with open(\"test.txt\") as f:\n",
    "    data = f.read()\n",
    "    print(data)\n",
    "```"
   ]
  },
  {
   "cell_type": "code",
   "execution_count": null,
   "metadata": {
    "colab": {},
    "colab_type": "code",
    "id": "Ae1tXrghlPj1"
   },
   "outputs": [],
   "source": [
    "with open(\"test01.txt\") as f:\n",
    "    data = f.read()\n",
    "    print(data)"
   ]
  }
 ],
 "metadata": {
  "colab": {
   "collapsed_sections": [],
   "name": "Python 的檔案 IO - 文字檔.ipynb",
   "provenance": [],
   "toc_visible": true
  },
  "kernelspec": {
   "display_name": "Python 3",
   "language": "python",
   "name": "python3"
  },
  "language_info": {
   "codemirror_mode": {
    "name": "ipython",
    "version": 3
   },
   "file_extension": ".py",
   "mimetype": "text/x-python",
   "name": "python",
   "nbconvert_exporter": "python",
   "pygments_lexer": "ipython3",
   "version": "3.7.1"
  }
 },
 "nbformat": 4,
 "nbformat_minor": 2
}
