{
 "cells": [
  {
   "cell_type": "markdown",
   "metadata": {},
   "source": [
    "<a href=\"https://colab.research.google.com/github/victorgau/python_crawler/blob/master/0-3%20Python_%E5%AD%97%E4%B8%B2.ipynb\" target=\"_parent\"><img src=\"https://colab.research.google.com/assets/colab-badge.svg\" alt=\"Open In Colab\"/></a>"
   ]
  },
  {
   "cell_type": "markdown",
   "metadata": {
    "colab_type": "text",
    "id": "v9VllMUyUhld"
   },
   "source": [
    "# Python 的字串"
   ]
  },
  {
   "cell_type": "markdown",
   "metadata": {
    "colab_type": "text",
    "id": "bSJTYMJyUhlg"
   },
   "source": [
    "## 資料型態\n",
    "* 數值 number\n",
    "     - 整數 integer (int)\n",
    "     - 浮點數 float\n",
    "     - <font color=\"red\">布林 boolean (bool)</font>\n",
    "     - 複數 (complex)\n",
    "* 字串 string (str)\n",
    "* None"
   ]
  },
  {
   "cell_type": "markdown",
   "metadata": {
    "colab_type": "text",
    "id": "ntikLhVwUhlg"
   },
   "source": [
    "可以使用 [Visualize Python](http://www.pythontutor.com/visualize.html) 來觀察變數跟記憶體的使用！"
   ]
  },
  {
   "cell_type": "markdown",
   "metadata": {
    "colab_type": "text",
    "id": "y0mEIZMVUhlh"
   },
   "source": [
    "---"
   ]
  },
  {
   "cell_type": "markdown",
   "metadata": {
    "colab_type": "text",
    "id": "fMTmftdGUhli"
   },
   "source": [
    "# 字串 (string)"
   ]
  },
  {
   "cell_type": "markdown",
   "metadata": {
    "colab_type": "text",
    "id": "OyeibefuUhlj"
   },
   "source": [
    "### 字串相加"
   ]
  },
  {
   "cell_type": "code",
   "execution_count": null,
   "metadata": {
    "colab": {},
    "colab_type": "code",
    "id": "cOYn-petUhll"
   },
   "outputs": [],
   "source": [
    "A = \"AAA\""
   ]
  },
  {
   "cell_type": "code",
   "execution_count": null,
   "metadata": {
    "colab": {},
    "colab_type": "code",
    "id": "5oPMteOmUhlo"
   },
   "outputs": [],
   "source": [
    "B = \"BBB\""
   ]
  },
  {
   "cell_type": "code",
   "execution_count": null,
   "metadata": {
    "colab": {},
    "colab_type": "code",
    "id": "4cwXNPXTUhlq"
   },
   "outputs": [],
   "source": [
    "A + B"
   ]
  },
  {
   "cell_type": "code",
   "execution_count": null,
   "metadata": {
    "colab": {},
    "colab_type": "code",
    "id": "gkhm4vYXUhlt"
   },
   "outputs": [],
   "source": [
    "n = 2330"
   ]
  },
  {
   "cell_type": "code",
   "execution_count": null,
   "metadata": {
    "colab": {},
    "colab_type": "code",
    "id": "ZXVczTyQUhlv"
   },
   "outputs": [],
   "source": [
    "stock_no = 2330 + \".tw\""
   ]
  },
  {
   "cell_type": "markdown",
   "metadata": {
    "colab_type": "text",
    "id": "hRif0sVTUhlx"
   },
   "source": [
    "### 字串相乘"
   ]
  },
  {
   "cell_type": "code",
   "execution_count": null,
   "metadata": {
    "colab": {},
    "colab_type": "code",
    "id": "nUTW3Xv8Uhly"
   },
   "outputs": [],
   "source": [
    "x = \"*\""
   ]
  },
  {
   "cell_type": "code",
   "execution_count": null,
   "metadata": {
    "colab": {},
    "colab_type": "code",
    "id": "0BNp1t1SUhl1"
   },
   "outputs": [],
   "source": [
    "x * 10"
   ]
  },
  {
   "cell_type": "markdown",
   "metadata": {
    "colab_type": "text",
    "id": "dkj0j-q3Uhl5"
   },
   "source": [
    "### [跳脫字元](https://docs.python.org/3/reference/lexical_analysis.html)\n",
    "\n",
    "|Escape Sequence|說明|\n",
    "|:-|:-|\n",
    "|\\newline|接在字串最後的反斜線(\\\\)會被省略|\n",
    "|\\\\\\ |反斜線(\\)|\n",
    "|\\\\'|單引號(')|\n",
    "|\\\\\"|雙引號(\")|\n",
    "|\\a|ASCII Bell (BEL)| \n",
    "|\\b|ASCII Backspace (BS)| \n",
    "|\\f|ASCII Formfeed (FF)|\n",
    "|\\n|ASCII Linefeed (LF)| \n",
    "|\\r|ASCII Carriage Return (CR)| \n",
    "|\\t|ASCII Horizontal Tab (TAB)| \n",
    "|\\v|ASCII Vertical Tab (VT)|\n",
    "|\\ooo|Character with octal value ooo|\n",
    "|\\xhh|Character with hex value hh|\n",
    "|\\N{name}|Character named name in the Unicode database|\n",
    "|\\uxxxx|Character with 16-bit hex value xxxx|\n",
    "|\\Uxxxxxxxx|Character with 32-bit hex value xxxxxxxx|"
   ]
  },
  {
   "cell_type": "code",
   "execution_count": null,
   "metadata": {
    "colab": {},
    "colab_type": "code",
    "id": "-7H8Ub0HUhl6"
   },
   "outputs": [],
   "source": [
    "print(oct(ord('a')))"
   ]
  },
  {
   "cell_type": "code",
   "execution_count": null,
   "metadata": {
    "colab": {},
    "colab_type": "code",
    "id": "R-SDnwZgUhl8"
   },
   "outputs": [],
   "source": [
    "print(\"\\141\")"
   ]
  },
  {
   "cell_type": "markdown",
   "metadata": {
    "colab_type": "text",
    "id": "xk9hnTP3Uhl-"
   },
   "source": [
    "### Indexing 及 Slicing\n",
    "\n",
    "字串可被當成一串字元的組合，從而很容易地使用索引及切片來讀取字串的內容。\n",
    "\n",
    "|字串內容|'A'|'B'|'C'|'D'|'E'|'F'|'G'|'H'|'I'|'J'|\n",
    "|:-:|:-:|:-:|:-:|:-:|:-:|:-:|:-:|:-:|:-:|:-:|\n",
    "|正向索引|0|1|2|3|4|5|6|7|8|9|\n",
    "|反向索引|-10|-9|-8|-7|-6|-5|-4|-3|-2|-1|"
   ]
  },
  {
   "cell_type": "code",
   "execution_count": null,
   "metadata": {
    "colab": {},
    "colab_type": "code",
    "id": "Tlm3AjWaUhl_"
   },
   "outputs": [],
   "source": [
    "X = 'ABCDEFGHIJ'"
   ]
  },
  {
   "cell_type": "code",
   "execution_count": null,
   "metadata": {
    "colab": {},
    "colab_type": "code",
    "id": "_2hdZpIkUhmB"
   },
   "outputs": [],
   "source": [
    "X[1:4]"
   ]
  },
  {
   "cell_type": "code",
   "execution_count": null,
   "metadata": {
    "colab": {},
    "colab_type": "code",
    "id": "jXHjLEqKUhmE"
   },
   "outputs": [],
   "source": [
    "X[5]"
   ]
  },
  {
   "cell_type": "code",
   "execution_count": null,
   "metadata": {
    "colab": {},
    "colab_type": "code",
    "id": "k9FN4yY9UhmG"
   },
   "outputs": [],
   "source": [
    "X[3]"
   ]
  },
  {
   "cell_type": "code",
   "execution_count": null,
   "metadata": {
    "colab": {},
    "colab_type": "code",
    "id": "Fe44xxVqUhmI"
   },
   "outputs": [],
   "source": [
    "X[-6]"
   ]
  },
  {
   "cell_type": "code",
   "execution_count": null,
   "metadata": {
    "colab": {},
    "colab_type": "code",
    "id": "obUjr_OxUhmK"
   },
   "outputs": [],
   "source": [
    "X[1:4]"
   ]
  },
  {
   "cell_type": "code",
   "execution_count": null,
   "metadata": {
    "colab": {},
    "colab_type": "code",
    "id": "d64gfNUIUhmO"
   },
   "outputs": [],
   "source": [
    "X[1:4]=\"AAA\""
   ]
  },
  {
   "cell_type": "markdown",
   "metadata": {
    "colab_type": "text",
    "id": "Aan4PahTUhmR"
   },
   "source": [
    "### 格式化輸出\n",
    "\n",
    "參考：\n",
    "\n",
    "* [String Formatting Operations](https://docs.python.org/2/library/stdtypes.html#string-formatting)\n",
    "* [Common String Operations](https://docs.python.org/3/library/string.html)\n",
    "* [Tutorialspoint - Python Strings](https://www.tutorialspoint.com/python/python_strings.htm)"
   ]
  },
  {
   "cell_type": "markdown",
   "metadata": {
    "colab_type": "text",
    "id": "JZ8j8vp5UhmS"
   },
   "source": [
    "### 傳統作法 - 01"
   ]
  },
  {
   "cell_type": "code",
   "execution_count": null,
   "metadata": {
    "colab": {},
    "colab_type": "code",
    "id": "N-utLc-VUhmW"
   },
   "outputs": [],
   "source": [
    "A = 10\n",
    "B = 3.14159\n",
    "C = 'John'\n",
    "D = True"
   ]
  },
  {
   "cell_type": "code",
   "execution_count": null,
   "metadata": {
    "colab": {},
    "colab_type": "code",
    "id": "OHzBqVq1Uhmf"
   },
   "outputs": [],
   "source": [
    "print('A = ' + str(A) + ', B = ' + str(B) + ', C = ' + C + \", D = \" + str(D))"
   ]
  },
  {
   "cell_type": "code",
   "execution_count": null,
   "metadata": {},
   "outputs": [],
   "source": [
    "print('A =', A,', B =', B, ', C =', C, ', D =', D)"
   ]
  },
  {
   "cell_type": "markdown",
   "metadata": {
    "colab_type": "text",
    "id": "VbniJHrlUhmn"
   },
   "source": [
    "### 傳統作法 - 02"
   ]
  },
  {
   "cell_type": "code",
   "execution_count": null,
   "metadata": {
    "colab": {},
    "colab_type": "code",
    "id": "Zh8_B3wtUhmn"
   },
   "outputs": [],
   "source": [
    "print('A=%d, B=%f, C=%s, D=%s' % (A, B, C, D))\n",
    "print('A=%d, B=%d, C=%s, D=%s' % (A, B, C, D))\n",
    "print('A=%d, B=%.2f, C=%s, D=%s' % (A, B, C, D))\n",
    "print('A=%5d, B=%5.2f, C=%5s, D=%5s' % (A, B, C, D))\n",
    "print('A=%05d, B=%05.2f, C=%05s, D=%05s' % (A, B, C, D))"
   ]
  },
  {
   "cell_type": "markdown",
   "metadata": {
    "colab_type": "text",
    "id": "6E9UFge2Uhmp"
   },
   "source": [
    "### 建議做法"
   ]
  },
  {
   "cell_type": "code",
   "execution_count": null,
   "metadata": {
    "colab": {},
    "colab_type": "code",
    "id": "OoikCFUXUhmq"
   },
   "outputs": [],
   "source": [
    "print('A={}, B={}, C={}, D={}'.format(A, B, C, D))\n",
    "print('A={0}, B={1}, C={2}, D={3}'.format(A, B, C, D))\n",
    "print('A={W}, B={X}, C={Y}, D={Z}'.format(W=A, X=B, Y=C, Z=D))\n",
    "print('A={W}, B={X}, C={Y}, D={Z}'.format(W=A, X=C, Y=B, Z=D))\n",
    "print('A={}, B={:.2f}, C={}, D={}'.format(A, B, C, D))"
   ]
  },
  {
   "cell_type": "code",
   "execution_count": null,
   "metadata": {
    "colab": {},
    "colab_type": "code",
    "id": "u-ZeGYnyUhms"
   },
   "outputs": [],
   "source": [
    "print(\"{0}, {1}, {0}\".format(123, \"abc\"))"
   ]
  },
  {
   "cell_type": "markdown",
   "metadata": {},
   "source": [
    "### f-string (python 3.6+)"
   ]
  },
  {
   "cell_type": "code",
   "execution_count": null,
   "metadata": {},
   "outputs": [],
   "source": [
    "print(f\"A={A}, B={B}, C={C}, D={D}\")"
   ]
  },
  {
   "cell_type": "code",
   "execution_count": null,
   "metadata": {},
   "outputs": [],
   "source": [
    "print(f\"A={A}, B={B:.2f}, C={C}, D={D}\")"
   ]
  },
  {
   "cell_type": "markdown",
   "metadata": {
    "colab_type": "text",
    "id": "sDXM5pF0Uhmu"
   },
   "source": [
    "### 常用的字串方法"
   ]
  },
  {
   "cell_type": "code",
   "execution_count": null,
   "metadata": {
    "colab": {},
    "colab_type": "code",
    "id": "QgQ1KS76Uhmu"
   },
   "outputs": [],
   "source": [
    "s = \"   abc   \"\n",
    "s = s.strip()"
   ]
  },
  {
   "cell_type": "code",
   "execution_count": null,
   "metadata": {
    "colab": {},
    "colab_type": "code",
    "id": "A8eVrJL-Uhm6"
   },
   "outputs": [],
   "source": [
    "## 字串分割\n",
    "sentence = 'It is raining cats and dogs'\n",
    "words = sentence.split()\n",
    "print(words)"
   ]
  },
  {
   "cell_type": "markdown",
   "metadata": {
    "colab_type": "text",
    "id": "vpNN1YaVUhm_"
   },
   "source": [
    "---"
   ]
  },
  {
   "cell_type": "markdown",
   "metadata": {
    "colab_type": "text",
    "id": "m6657pK2UhnT"
   },
   "source": [
    "# 【進階教材】"
   ]
  },
  {
   "cell_type": "markdown",
   "metadata": {
    "colab_type": "text",
    "id": "UMK8A5wcUhnW"
   },
   "source": [
    "### 什麼是 Unicode？\n",
    "\n",
    "* [Wikipedia - Unicode](https://en.wikipedia.org/wiki/Unicode)"
   ]
  },
  {
   "cell_type": "markdown",
   "metadata": {
    "colab_type": "text",
    "id": "-H_0auWMUhnX"
   },
   "source": [
    "### 什麼是 Encode()？\n",
    "\n",
    "將字串轉換成特定格式(如UTF-8)的 bytes，以便於儲存或網路傳輸。 "
   ]
  },
  {
   "cell_type": "markdown",
   "metadata": {
    "colab_type": "text",
    "id": "Dz6F-O2wUhna"
   },
   "source": [
    "### 什麼是 Decode()？\n",
    "\n",
    "將特定格式的 bytes，轉換回字串以便於顯示。"
   ]
  },
  {
   "cell_type": "code",
   "execution_count": null,
   "metadata": {
    "colab": {},
    "colab_type": "code",
    "id": "J7m1zAtSUhnb"
   },
   "outputs": [],
   "source": [
    "a = \"中文\"\n",
    "b = a.encode('utf-8')\n",
    "b"
   ]
  },
  {
   "cell_type": "code",
   "execution_count": null,
   "metadata": {
    "colab": {},
    "colab_type": "code",
    "id": "FywLhpCsUhne"
   },
   "outputs": [],
   "source": [
    "type(b)"
   ]
  },
  {
   "cell_type": "code",
   "execution_count": null,
   "metadata": {
    "colab": {},
    "colab_type": "code",
    "id": "1s8Fki4pUhnh"
   },
   "outputs": [],
   "source": [
    "b.decode('utf-8')"
   ]
  },
  {
   "cell_type": "code",
   "execution_count": null,
   "metadata": {
    "colab": {
     "base_uri": "https://localhost:8080/",
     "height": 34
    },
    "colab_type": "code",
    "id": "RL3OVOEpUhnm",
    "outputId": "81dd06df-6e38-4604-9914-04e93e8e63fa"
   },
   "outputs": [],
   "source": [
    "# 從字元找對應的 codepoint\n",
    "ord('中')"
   ]
  },
  {
   "cell_type": "code",
   "execution_count": null,
   "metadata": {
    "colab": {
     "base_uri": "https://localhost:8080/",
     "height": 34
    },
    "colab_type": "code",
    "id": "3ocbzZ27Uhnp",
    "outputId": "0c20a7e0-aeb9-4457-c0d6-7bc5f4bb07eb"
   },
   "outputs": [],
   "source": [
    "# 從 codepoint 找回字元\n",
    "chr(20013)"
   ]
  },
  {
   "cell_type": "code",
   "execution_count": null,
   "metadata": {
    "colab": {
     "base_uri": "https://localhost:8080/",
     "height": 34
    },
    "colab_type": "code",
    "id": "eJSMNPvbUhnu",
    "outputId": "cb0eb53d-2a9c-403d-e49a-17d7403925ba"
   },
   "outputs": [],
   "source": [
    "hex(ord('中'))"
   ]
  }
 ],
 "metadata": {
  "anaconda-cloud": {},
  "colab": {
   "collapsed_sections": [
    "dkj0j-q3Uhl5",
    "xk9hnTP3Uhl-",
    "Aan4PahTUhmR",
    "JZ8j8vp5UhmS",
    "VbniJHrlUhmn",
    "6E9UFge2Uhmp",
    "sDXM5pF0Uhmu",
    "UMK8A5wcUhnW",
    "-H_0auWMUhnX",
    "Dz6F-O2wUhna"
   ],
   "name": "Python 字串.ipynb",
   "provenance": [],
   "toc_visible": true
  },
  "kernelspec": {
   "display_name": "Python 3",
   "language": "python",
   "name": "python3"
  },
  "language_info": {
   "codemirror_mode": {
    "name": "ipython",
    "version": 3
   },
   "file_extension": ".py",
   "mimetype": "text/x-python",
   "name": "python",
   "nbconvert_exporter": "python",
   "pygments_lexer": "ipython3",
   "version": "3.7.1"
  },
  "livereveal": {
   "scroll": true
  },
  "nbpresent": {
   "slides": {},
   "themes": {
    "default": "56b38c57-4ffe-478a-9f92-8ca64a17c67c",
    "theme": {
     "56b38c57-4ffe-478a-9f92-8ca64a17c67c": {
      "id": "56b38c57-4ffe-478a-9f92-8ca64a17c67c",
      "palette": {
       "19cc588f-0593-49c9-9f4b-e4d7cc113b1c": {
        "id": "19cc588f-0593-49c9-9f4b-e4d7cc113b1c",
        "rgb": [
         252,
         252,
         252
        ]
       },
       "31af15d2-7e15-44c5-ab5e-e04b16a89eff": {
        "id": "31af15d2-7e15-44c5-ab5e-e04b16a89eff",
        "rgb": [
         68,
         68,
         68
        ]
       },
       "50f92c45-a630-455b-aec3-788680ec7410": {
        "id": "50f92c45-a630-455b-aec3-788680ec7410",
        "rgb": [
         155,
         177,
         192
        ]
       },
       "c5cc3653-2ee1-402a-aba2-7caae1da4f6c": {
        "id": "c5cc3653-2ee1-402a-aba2-7caae1da4f6c",
        "rgb": [
         43,
         126,
         184
        ]
       },
       "efa7f048-9acb-414c-8b04-a26811511a21": {
        "id": "efa7f048-9acb-414c-8b04-a26811511a21",
        "rgb": [
         25.118061674008803,
         73.60176211453744,
         107.4819383259912
        ]
       }
      },
      "rules": {
       "blockquote": {
        "color": "50f92c45-a630-455b-aec3-788680ec7410"
       },
       "code": {
        "font-family": "Anonymous Pro"
       },
       "h1": {
        "color": "c5cc3653-2ee1-402a-aba2-7caae1da4f6c",
        "font-family": "Lato",
        "font-size": 8
       },
       "h2": {
        "color": "c5cc3653-2ee1-402a-aba2-7caae1da4f6c",
        "font-family": "Lato",
        "font-size": 6
       },
       "h3": {
        "color": "50f92c45-a630-455b-aec3-788680ec7410",
        "font-family": "Lato",
        "font-size": 5.5
       },
       "h4": {
        "color": "c5cc3653-2ee1-402a-aba2-7caae1da4f6c",
        "font-family": "Lato",
        "font-size": 5
       },
       "h5": {
        "font-family": "Lato"
       },
       "h6": {
        "font-family": "Lato"
       },
       "h7": {
        "font-family": "Lato"
       },
       "pre": {
        "font-family": "Anonymous Pro",
        "font-size": 4
       }
      },
      "text-base": {
       "font-family": "Merriweather",
       "font-size": 4
      }
     }
    }
   }
  }
 },
 "nbformat": 4,
 "nbformat_minor": 2
}
