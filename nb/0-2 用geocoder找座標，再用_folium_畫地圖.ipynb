{
 "cells": [
  {
   "cell_type": "markdown",
   "metadata": {},
   "source": [
    "<a href=\"https://colab.research.google.com/github/victorgau/python_crawler/blob/master/0-2%20%E7%94%A8geocoder%E6%89%BE%E5%BA%A7%E6%A8%99%EF%BC%8C%E5%86%8D%E7%94%A8_folium_%E7%95%AB%E5%9C%B0%E5%9C%96.ipynb\" target=\"_parent\"><img src=\"https://colab.research.google.com/assets/colab-badge.svg\" alt=\"Open In Colab\"/></a>"
   ]
  },
  {
   "cell_type": "markdown",
   "metadata": {
    "colab_type": "text",
    "id": "UJ_AqP3njEuo"
   },
   "source": [
    "## 0-2 用 geocoder 找出 gps 座標，再用 folium 畫地圖\n",
    "\n",
    "folium: https://python-visualization.github.io/folium/\n",
    "\n",
    "geocoder: https://geocoder.readthedocs.io/\n",
    "\n",
    "下面的程式碼執行時會遇到錯誤，請嘗試解決錯誤後執行看看。"
   ]
  },
  {
   "cell_type": "code",
   "execution_count": null,
   "metadata": {
    "colab": {},
    "colab_type": "code",
    "id": "IRVxs8u6fiDA"
   },
   "outputs": [],
   "source": [
    "!pip install -q folium"
   ]
  },
  {
   "cell_type": "code",
   "execution_count": null,
   "metadata": {
    "colab": {},
    "colab_type": "code",
    "id": "UJsZPTH6f2WQ"
   },
   "outputs": [],
   "source": [
    "# 載入需要的模組\n",
    "import geocoder\n",
    "import folium"
   ]
  },
  {
   "cell_type": "code",
   "execution_count": null,
   "metadata": {
    "colab": {},
    "colab_type": "code",
    "id": "aKlqzX34gkhO"
   },
   "outputs": [],
   "source": [
    "# 給定城市名稱\n",
    "city = \"台北市\"\n",
    "\n",
    "# 使用 geocoder 取得特定住址的 GPS 座標\n",
    "city_gps = geocoder.osm(city).latlng"
   ]
  },
  {
   "cell_type": "code",
   "execution_count": null,
   "metadata": {
    "colab": {},
    "colab_type": "code",
    "id": "OUeXm2SugF-v"
   },
   "outputs": [],
   "source": [
    "m = folium.Map(location=city_gps, zoom_start=16)\n",
    "\n",
    "folium.Marker(location=city_gps, popup=city).add_to(m)"
   ]
  },
  {
   "cell_type": "code",
   "execution_count": null,
   "metadata": {
    "colab": {},
    "colab_type": "code",
    "id": "d5WUba5XgVo1"
   },
   "outputs": [],
   "source": [
    "m"
   ]
  }
 ],
 "metadata": {
  "colab": {
   "collapsed_sections": [],
   "name": "用geocoder找座標，再用 folium 畫地圖.ipynb",
   "provenance": []
  },
  "kernelspec": {
   "display_name": "Python 3",
   "language": "python",
   "name": "python3"
  },
  "language_info": {
   "codemirror_mode": {
    "name": "ipython",
    "version": 3
   },
   "file_extension": ".py",
   "mimetype": "text/x-python",
   "name": "python",
   "nbconvert_exporter": "python",
   "pygments_lexer": "ipython3",
   "version": "3.7.1"
  }
 },
 "nbformat": 4,
 "nbformat_minor": 2
}
