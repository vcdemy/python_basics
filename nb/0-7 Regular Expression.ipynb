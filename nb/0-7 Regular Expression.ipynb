{
 "cells": [
  {
   "cell_type": "markdown",
   "metadata": {},
   "source": [
    "<a href=\"https://colab.research.google.com/github/victorgau/python_crawler/blob/master/0-7%20Regular%20Expression.ipynb\" target=\"_parent\"><img src=\"https://colab.research.google.com/assets/colab-badge.svg\" alt=\"Open In Colab\"/></a>"
   ]
  },
  {
   "cell_type": "markdown",
   "metadata": {},
   "source": [
    "# Regular Expression 簡介"
   ]
  },
  {
   "cell_type": "markdown",
   "metadata": {},
   "source": [
    "底下的 %%html 魔術命令是要加入 css style 讓表格可以靠左排列，便於閱讀。"
   ]
  },
  {
   "cell_type": "code",
   "execution_count": null,
   "metadata": {},
   "outputs": [],
   "source": [
    "%%html\n",
    "<style>\n",
    "    table {\n",
    "        display: inline-block\n",
    "    }\n",
    "</style>"
   ]
  },
  {
   "cell_type": "markdown",
   "metadata": {},
   "source": [
    "Regular Expression是使用特殊字元組合成的一個模式(Pattern)，我們可以在字串(string)中搜尋符合這個模式(Pattern)的含意的子字串。\n",
    "\n",
    "官網說明：\n",
    "\n",
    "* https://docs.python.org/3/library/re.html\n",
    "\n",
    "常用 Regular Expression 試驗場：\n",
    "\n",
    "* https://pythex.org/\n",
    "* https://regex101.com/"
   ]
  },
  {
   "cell_type": "markdown",
   "metadata": {},
   "source": [
    "常用函式：\n",
    "\n",
    "|函式|說明|\n",
    "|:-|:-|\n",
    "|re.split(pattern, string, maxsplit=0, flags=0)|切分字串。|\n",
    "|re.search(pattern, string, flags=0)|在字串中尋找第一個符合模式的子字串。|\n",
    "|re.match(pattern, string, flags=0)|從字串開頭開始找符合模式的子字串。|\n",
    "|re.sub(pattern, repl, string, count=0, flags=0)|尋找符合模式的子字串，用另一個字串取代。|\n",
    "|re.findall(pattern, string, flags=0)|搜尋所有符合的子字串，返回一個 list。|\n",
    "|re.finditer(pattern, string, flags=0)|搜尋所有符合的子字串，返回一個 iterator。|\n",
    "|re.comiple(pattern, flags=0)|把pattern打包起來重複使用|\n"
   ]
  },
  {
   "cell_type": "markdown",
   "metadata": {},
   "source": [
    "常用特殊字元：\n",
    "\n",
    "|字元|說明|\n",
    "|:-|:-|\n",
    "|.|任一字元。|\n",
    "|\\\\s| 任一空白。|\n",
    "|\\\\S|任一非空白。|\n",
    "|\\\\d|任一數字。|\n",
    "|\\\\D|任一非數字。|\n",
    "|\\\\w|任一英文字母、數字、或底線。|\n",
    "|\\\\W|任一非英文字母、數字、底線。|\n"
   ]
  },
  {
   "cell_type": "markdown",
   "metadata": {},
   "source": [
    "常用量詞：\n",
    "\n",
    "|量詞|說明|\n",
    "|:-|:-|\n",
    "|?|出現0或1次。|\n",
    "|\\*|出現0或多次。|\n",
    "|+|出現1或多次。|\n",
    "|{m}|出現m次。|\n",
    "|{m,}|出現m次以上。|\n",
    "|{m,n}|出現m到n次。|\n"
   ]
  },
  {
   "cell_type": "markdown",
   "metadata": {},
   "source": [
    "常用類別模式：\n",
    "\n",
    "|類別|說明|\n",
    "|:-|:-|\n",
    "|\\[abc\\]|a, b, c 任一字元。|\n",
    "|\\[^abc\\]|非 a, b, c 的任一字元。|\n",
    "|\\[a-m\\]|a到m之間的任一字元。|\n",
    "|\\[a-zA-Z\\]|任一英文字母。|"
   ]
  },
  {
   "cell_type": "code",
   "execution_count": null,
   "metadata": {},
   "outputs": [],
   "source": [
    "import re"
   ]
  },
  {
   "cell_type": "markdown",
   "metadata": {},
   "source": [
    "## 切分字串 (re.split())"
   ]
  },
  {
   "cell_type": "code",
   "execution_count": null,
   "metadata": {},
   "outputs": [],
   "source": [
    "s1 = \"That is  my   book!\""
   ]
  },
  {
   "cell_type": "code",
   "execution_count": null,
   "metadata": {},
   "outputs": [],
   "source": [
    "s1.split()"
   ]
  },
  {
   "cell_type": "code",
   "execution_count": null,
   "metadata": {},
   "outputs": [],
   "source": [
    "s2 = \"That#is##my###book!\""
   ]
  },
  {
   "cell_type": "code",
   "execution_count": null,
   "metadata": {},
   "outputs": [],
   "source": [
    "s2.split('#')"
   ]
  },
  {
   "cell_type": "code",
   "execution_count": null,
   "metadata": {},
   "outputs": [],
   "source": [
    "re.split(r'#+',s2)"
   ]
  },
  {
   "cell_type": "markdown",
   "metadata": {},
   "source": [
    "## 搜尋字串 (re.findall(), re.finditer())"
   ]
  },
  {
   "cell_type": "markdown",
   "metadata": {},
   "source": [
    "google一下關鍵字\"sample contact\"，然後抓任一個聯絡資訊的sample下來，使用 re 取出 email。"
   ]
  },
  {
   "cell_type": "code",
   "execution_count": null,
   "metadata": {},
   "outputs": [],
   "source": [
    "import requests\n",
    "\n",
    "headers={\"user-agent\": \"Mozilla/5.0 (Windows NT 10.0; Win64; x64) AppleWebKit/537.36 (KHTML, like Gecko) Chrome/81.0.4044.138 Safari/537.36\"}\n",
    "r = requests.get('https://letterhub.com/wp-content/uploads/2018/03/50-contacts.csv',headers=headers)"
   ]
  },
  {
   "cell_type": "code",
   "execution_count": null,
   "metadata": {},
   "outputs": [],
   "source": [
    "r.text"
   ]
  },
  {
   "cell_type": "code",
   "execution_count": null,
   "metadata": {},
   "outputs": [],
   "source": [
    "re.findall('[\\w\\d-]+@(?:[\\w\\d-]+.)[a-zA-Z]+', r.text)"
   ]
  }
 ],
 "metadata": {
  "kernelspec": {
   "display_name": "Python 3",
   "language": "python",
   "name": "python3"
  },
  "language_info": {
   "codemirror_mode": {
    "name": "ipython",
    "version": 3
   },
   "file_extension": ".py",
   "mimetype": "text/x-python",
   "name": "python",
   "nbconvert_exporter": "python",
   "pygments_lexer": "ipython3",
   "version": "3.7.1"
  }
 },
 "nbformat": 4,
 "nbformat_minor": 2
}
